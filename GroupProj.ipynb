from keras.callbacks import EarlyStopping,ReduceLROnPlateau,ModelCheckpoint,LambdaCallback
from keras.layers import Input,Dropout, Dense,GlobalAveragePooling2D, BatchNormalization
from keras.models import Sequential,Model
from keras.applications.resnet import ResNet50
from keras.preprocessing.image import ImageDataGenerator
from tensorflow.keras.preprocessing import image_dataset_from_directory
from sklearn.model_selection import train_test_split
from sklearn.metrics import confusion_matrix,classification_report
from sklearn.utils import shuffle
import matplotlib.pyplot as plt
from tensorflow import keras
import tensorflow as tf
from tqdm import tqdm
import seaborn as sns
import numpy as np
import itertools 
import datetime
import cv2
import os
import io

IMAGE_SIZE = 224
BATCH_SIZE = 32


TRAIN_PATH = "../input/white-blood-cells-dataset/Train"
TEST_PATH = "../input/white-blood-cells-dataset/Test-A"

# ImageDataGenerator transforms each image in the batch by a series of random translations, rotations, etc.
data_gen = ImageDataGenerator(rescale=1./255,
    width_shift_range=0.05,
    height_shift_range=0.05,
    horizontal_flip=True,
    vertical_flip=True,
    validation_split=0.2)


train_gen = data_gen.flow_from_directory(directory = TRAIN_PATH,subset='training',batch_size = BATCH_SIZE,shuffle = True,class_mode = 'categorical',target_size = (IMAGE_SIZE, IMAGE_SIZE))

valid_gen = data_gen.flow_from_directory(directory = TRAIN_PATH,subset='validation',batch_size = BATCH_SIZE,shuffle = False,class_mode = 'categorical',target_size = (IMAGE_SIZE, IMAGE_SIZE))

test_gen = ImageDataGenerator(rescale=1./255).flow_from_directory(directory = TEST_PATH,batch_size = BATCH_SIZE,shuffle = False,class_mode = 'categorical',target_size = (IMAGE_SIZE, IMAGE_SIZE))

# plot some image of our dataset
import matplotlib.pyplot as plt
import numpy as np

labels = ['Basophil', 'Eosinophil', 'Lymphocyte', 'Monocyte','Neutrophil']

image,label = train_gen.next()

plt.figure(figsize = (12,12))
for i in range(6) :
    plt.subplot(4, 4, i+1)
    plt.imshow(image[i])
    plt.title(labels[np.argmax(label[i])])
    plt.axis('off')
plt.show()
